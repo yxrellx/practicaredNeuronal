{
  "nbformat": 4,
  "nbformat_minor": 0,
  "metadata": {
    "colab": {
      "provenance": [],
      "authorship_tag": "ABX9TyOZIQWZbn5sDTssu2qRGJID",
      "include_colab_link": true
    },
    "kernelspec": {
      "name": "python3",
      "display_name": "Python 3"
    },
    "language_info": {
      "name": "python"
    }
  },
  "cells": [
    {
      "cell_type": "markdown",
      "metadata": {
        "id": "view-in-github",
        "colab_type": "text"
      },
      "source": [
        "<a href=\"https://colab.research.google.com/github/yxrellx/practicaredNeuronal/blob/main/IA_pynb.ipynb\" target=\"_parent\"><img src=\"https://colab.research.google.com/assets/colab-badge.svg\" alt=\"Open In Colab\"/></a>"
      ]
    },
    {
      "cell_type": "markdown",
      "source": [],
      "metadata": {
        "id": "r8CV4aRngg0z"
      }
    },
    {
      "cell_type": "markdown",
      "source": [
        "**FRAMES**"
      ],
      "metadata": {
        "id": "WBORX5gYgfQl"
      }
    },
    {
      "cell_type": "code",
      "execution_count": null,
      "metadata": {
        "id": "mq728k_PgBL2"
      },
      "outputs": [],
      "source": [
        "\n",
        "# Crear los frames para las personas\n",
        "personas_frames = []\n",
        "for persona in data['personas']:\n",
        "    frame = Frame(persona['nombre'])\n",
        "    frame.add_attribute(\"edad\", persona['edad'])\n",
        "\n",
        "    # Verificar si el atributo padre existe antes de agregarlo\n",
        "    if 'padre' in persona:\n",
        "        frame.add_attribute(\"padre\", persona['padre'])\n",
        "\n",
        "    # Verificar si el atributo trabajo existe antes de agregarlo\n",
        "    if 'trabajo' in persona:\n",
        "        frame.add_attribute(\"trabajo\", persona['trabajo'])\n",
        "\n",
        "    # Verificar si el atributo color_favorito existe antes de agregarlo\n",
        "    if 'color_favorito' in persona:\n",
        "        frame.add_attribute(\"color_favorito\", persona['color_favorito'])\n",
        "\n",
        "    personas_frames.append(frame)\n",
        "\n",
        "# Crear los frames para los animales\n",
        "animales_frames = []\n",
        "for animal in data['animales']:\n",
        "    frame = Frame(animal['nombre'])\n",
        "    frame.add_attribute(\"patas\", animal['patas'])\n",
        "    frame.add_attribute(\"color\", animal['color'])\n",
        "    animales_frames.append(frame)\n",
        "\n",
        "# Mostrar los datos estructurados de los frames\n",
        "for persona in personas_frames:\n",
        "    print(f\"Nombre: {persona.name}, Atributos: {persona.attributes}\")\n",
        "\n",
        "for animal in animales_frames:\n",
        "    print(f\"Nombre: {animal.name}, Atributos: {animal.attributes}\")"
      ]
    },
    {
      "cell_type": "markdown",
      "source": [
        "**PREGUNTAS**"
      ],
      "metadata": {
        "id": "W4HAStPJglgM"
      }
    },
    {
      "cell_type": "code",
      "source": [
        "import json\n",
        "import pandas as pd"
      ],
      "metadata": {
        "id": "daelBT9JgkmM"
      },
      "execution_count": 13,
      "outputs": []
    },
    {
      "cell_type": "code",
      "source": [
        "# Suponiendo que el archivo JSON ya está cargado\n",
        "with open('/content/datos.json', 'r') as file:\n",
        "    data = json.load(file)"
      ],
      "metadata": {
        "id": "I_qgb9wUiz5M"
      },
      "execution_count": 18,
      "outputs": []
    },
    {
      "cell_type": "code",
      "source": [
        "# Función para encontrar a una persona por nombre y obtener su atributo\n",
        "def obtener_atributo_persona(nombre, atributo):\n",
        "    for persona in data['personas']:\n",
        "        if persona['nombre'] == nombre:\n",
        "            return persona.get(atributo, 'Atributo no encontrado')\n",
        "    return 'Persona no encontrada'"
      ],
      "metadata": {
        "id": "K3xyQCdxjhKc"
      },
      "execution_count": 25,
      "outputs": []
    },
    {
      "cell_type": "code",
      "source": [
        "# Función para encontrar animales con un número específico de patas\n",
        "def obtener_animales_por_patas(patas):\n",
        "    animales_con_patas = []\n",
        "    for animal in data['animales']:\n",
        "        if animal['patas'] == patas:\n",
        "            animales_con_patas.append(animal['nombre'])\n",
        "    return animales_con_patas if animales_con_patas else 'No hay animales con ese número de patas'\n"
      ],
      "metadata": {
        "id": "_JKrqtBRjknz"
      },
      "execution_count": 26,
      "outputs": []
    },
    {
      "cell_type": "code",
      "source": [
        "# 1. ¿Cuál es el nombre del padre de Juan?\n",
        "padre_de_juan = obtener_atributo_persona('Juan', 'padre')\n",
        "\n",
        "# 2. ¿Cuál es el color favorito de María?\n",
        "color_favorito_maria = obtener_atributo_persona('María', 'color_favorito')\n",
        "\n",
        "# 3. ¿Cuál es la edad de Pedro?\n",
        "edad_de_pedro = obtener_atributo_persona('Pedro', 'edad')\n",
        "\n",
        "# 4. ¿Cuál es el nombre del animal que tiene cuatro patas?\n",
        "animales_con_cuatro_patas = obtener_animales_por_patas(4)\n",
        "\n",
        "# 5. ¿Cuál es el trabajo de Laura?\n",
        "trabajo_de_laura = obtener_atributo_persona('Laura', 'trabajo')"
      ],
      "metadata": {
        "id": "rBP3onmjjvrL"
      },
      "execution_count": 29,
      "outputs": []
    },
    {
      "cell_type": "code",
      "source": [
        "# Mostrar resultados\n",
        "print(f\"1. El nombre del padre de Juan es: {padre_de_juan}\")\n",
        "print(f\"2. El color favorito de María es: {color_favorito_maria}\")\n",
        "print(f\"3. La edad de Pedro es: {edad_de_pedro}\")\n",
        "print(f\"4. Los animales que tienen cuatro patas son: {', '.join(animales_con_cuatro_patas) if isinstance(animales_con_cuatro_patas, list) else animales_con_cuatro_patas}\")\n",
        "print(f\"5. El trabajo de Laura es: {trabajo_de_laura}\")"
      ],
      "metadata": {
        "colab": {
          "base_uri": "https://localhost:8080/"
        },
        "id": "AG0HIUoMj15z",
        "outputId": "dbba75d3-e5ae-470a-ed7d-cda24471129f"
      },
      "execution_count": 30,
      "outputs": [
        {
          "output_type": "stream",
          "name": "stdout",
          "text": [
            "1. El nombre del padre de Juan es: Carlos\n",
            "2. El color favorito de María es: verde\n",
            "3. La edad de Pedro es: 35\n",
            "4. Los animales que tienen cuatro patas son: perro, gato\n",
            "5. El trabajo de Laura es: doctora\n"
          ]
        }
      ]
    }
  ]
}